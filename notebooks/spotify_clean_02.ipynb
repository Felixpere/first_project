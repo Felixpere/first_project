{
 "cells": [
  {
   "cell_type": "code",
   "execution_count": null,
   "id": "18369dea-635d-40de-b50d-cb46d150954d",
   "metadata": {},
   "outputs": [],
   "source": [
    "# Load YAML configuration file\n",
    "import yaml\n",
    "\n",
    "with open(\"../spotify_config.yaml\", \"r\") as file:\n",
    "    config = yaml.safe_load(file)\n",
    "\n",
    "# Load dataset with pandas\n",
    "import pandas as pd\n",
    "df = pd.read_csv(config['input_data']['file'])  # Load dataset based on YAML path\n",
    "df.head()  # Show the first 5 rows of the dataset"
   ]
  },
  {
   "cell_type": "code",
   "execution_count": null,
   "id": "ffe24f5d-c36d-4012-bc4b-7a53233ceb70",
   "metadata": {},
   "outputs": [],
   "source": [
    "# Explore structure and metadata\n",
    "df.shape         # Check number of rows and columns\n",
    "df.columns       # List all column names\n",
    "df.info()        # Get data types and non-null counts per column"
   ]
  },
  {
   "cell_type": "code",
   "execution_count": null,
   "id": "7301adb3-d58e-457a-9edf-abc12746a7fb",
   "metadata": {},
   "outputs": [],
   "source": [
    "# Check missing values in descending order\n",
    "df.isnull().sum().sort_values(ascending=False)"
   ]
  },
  {
   "cell_type": "code",
   "execution_count": null,
   "id": "bf42c07a-5d0b-4718-b91d-365ecae7cc25",
   "metadata": {},
   "outputs": [],
   "source": [
    "# Number of unique values per column\n",
    "df.nunique().sort_values()\n",
    "\n",
    "# Distribution of key categorical columns\n",
    "df['type'].value_counts(normalize=True)  # Distribution of 'Movie' vs 'TV Show'\n",
    "df['country'].value_counts().head(10)    # Top 10 countries\n",
    "df['rating'].value_counts().head(10)     # Most common ratings"
   ]
  },
  {
   "cell_type": "code",
   "execution_count": null,
   "id": "cbf79246-6a10-44d5-a114-8435b949d91e",
   "metadata": {},
   "outputs": [],
   "source": [
    "# View a sample of the genres column\n",
    "df['listed_in'].sample(10)"
   ]
  },
  {
   "cell_type": "code",
   "execution_count": null,
   "id": "1b4ab34d-af55-497c-9265-f67d7745c6a2",
   "metadata": {},
   "outputs": [],
   "source": [
    "# Check unique countries\n",
    "df['country'].unique()[:20]"
   ]
  },
  {
   "cell_type": "code",
   "execution_count": null,
   "id": "f1d3dbf9-c536-4ea5-8ec5-dad86748ceaa",
   "metadata": {},
   "outputs": [],
   "source": [
    "# Split 'duration' column into duration value and type (e.g., \"90 min\" → 90 + 'min')\n",
    "df[['duration_int', 'duration_type']] = df['duration'].str.extract(r'(\\d+)\\s*(\\w+)')\n",
    "df['duration_int'] = pd.to_numeric(df['duration_int'], errors='coerce')  # Convert to numeric\n",
    "df[['duration', 'duration_int', 'duration_type']].head()  # Preview new columns"
   ]
  },
  {
   "cell_type": "code",
   "execution_count": null,
   "id": "eb5492da-ccb3-4423-9b75-2100203d452d",
   "metadata": {},
   "outputs": [],
   "source": [
    "# Convert 'date_added' column to datetime format\n",
    "df['date_added'] = pd.to_datetime(df['date_added'], errors='coerce') # Convert to datetime\n",
    "df['date_added'].dtype  # Confirm conversion"
   ]
  },
  {
   "cell_type": "code",
   "execution_count": null,
   "id": "5b1e8658-0381-4aaf-bc84-9ae66449899f",
   "metadata": {},
   "outputs": [],
   "source": [
    "# Split genres into lists (for multi-label classification)\n",
    "df['genres'] = df['listed_in'].str.split(', ') # Split genre strings into lists\n",
    "df[['listed_in', 'genres']].sample(5)  # Check results"
   ]
  },
  {
   "cell_type": "code",
   "execution_count": null,
   "id": "38fa55cf-54d4-4c25-b844-d8d092bd4f8b",
   "metadata": {},
   "outputs": [],
   "source": [
    "# Frequency of duration types (e.g., 'min', 'Season')\n",
    "df['duration_type'].value_counts() # Check types of duration (minutes or seasons)\n",
    "\n",
    "# Standardize plural form to singular ('Seasons' → 'Season')\n",
    "df['duration_type'] = df['duration_type'].replace('Seasons', 'Season') # Normalize to singular\n",
    "df['duration_type'].value_counts()  # Confirm correction"
   ]
  },
  {
   "cell_type": "code",
   "execution_count": null,
   "id": "177ff205-c6fa-415b-adba-9c56fb54a5f3",
   "metadata": {},
   "outputs": [],
   "source": [
    "# Check for missing values in 'duration_int'\n",
    "df['duration_int'].isnull().sum()  # Check how many null durations remain\n",
    "# Keep only rows where 'duration_int' is not null\n",
    "df = df[df['duration_int'].notna()]  # Filter out rows without valid duration\n",
    "# Inspect rows where duration was missing\n",
    "df[df['duration_int'].isna()][['duration']]\n"
   ]
  },
  {
   "cell_type": "code",
   "execution_count": null,
   "id": "5b3c4802-c72c-4e13-9941-5649f9428596",
   "metadata": {},
   "outputs": [],
   "source": [
    "# Remove duplicated rows based on 'show_id', 'title', and 'release_year'\n",
    "df = df.drop_duplicates(subset=['show_id', 'title', 'release_year'])  # Remove duplicates\n",
    "print(\"Number of rows after removing duplicates:\", df.shape[0])  # Check number of rows after deduplication"
   ]
  },
  {
   "cell_type": "code",
   "execution_count": null,
   "id": "161d1387-7808-4989-8775-3556d12a8448",
   "metadata": {},
   "outputs": [],
   "source": [
    "# Confirm that duplicates are removed\n",
    "duplicates = df.duplicated(subset=['show_id', 'title', 'release_year']).sum()  # Count remaining duplicates\n",
    "print(\"Remaining duplicates:\", duplicates) "
   ]
  },
  {
   "cell_type": "code",
   "execution_count": null,
   "id": "247b4264-ff75-4c16-8ec0-0385cd08e9bd",
   "metadata": {},
   "outputs": [],
   "source": [
    "# Check missing values again per column (after cleaning)\n",
    "df.isnull().sum().sort_values(ascending=False)"
   ]
  },
  {
   "cell_type": "code",
   "execution_count": null,
   "id": "3a421502-6259-4e12-b363-920115fab246",
   "metadata": {},
   "outputs": [],
   "source": [
    "# Fill missing values with appropriate defaults\n",
    "# 1. Replace missing 'director' with \"Unknown\"\n",
    "df['director'] = df['director'].fillna(\"Unknown\")\n",
    "# 2. Replace missing 'cast' with \"Unknown\"\n",
    "df['cast'] = df['cast'].fillna(\"Unknown\")\n",
    "# 3. Replace missing 'country' with \"Unknown\"\n",
    "df['country'] = df['country'].fillna(\"Unknown\")\n",
    "# 4. Drop rows where 'date_added' is missing\n",
    "df = df[df['date_added'].notna()]\n",
    "# 5. Replace missing 'rating' with \"Not Rated\"\n",
    "df['rating'] = df['rating'].fillna(\"Not Rated\")"
   ]
  },
  {
   "cell_type": "code",
   "execution_count": null,
   "id": "37cc1394-0caf-4245-b93b-624702c2bba9",
   "metadata": {},
   "outputs": [],
   "source": [
    "# Confirm again that no missing values remain after filling\n",
    "df.isnull().sum().sort_values(ascending=False)"
   ]
  },
  {
   "cell_type": "code",
   "execution_count": null,
   "id": "1a324737-4e1a-4988-9ef8-ab49eae6fe71",
   "metadata": {},
   "outputs": [],
   "source": [
    "# Define a function to extract the first country if there are multiple listed\n",
    "def extract_first_country(country):\n",
    "    if isinstance(country, str):\n",
    "        return country.split(',')[0]  # Keep only the first country\n",
    "    return country\n",
    "\n",
    "# Apply the function to create a cleaned 'country' column\n",
    "df['country'] = df['country'].apply(extract_first_country)"
   ]
  },
  {
   "cell_type": "code",
   "execution_count": null,
   "id": "ce6f5d8f-56ab-4320-aa8f-f1ce86737329",
   "metadata": {},
   "outputs": [],
   "source": [
    "# Quick check of distributions on key columns\n",
    "print(df['duration_type'].value_counts())  # Check distribution of 'duration_type'\n",
    "print(df['type'].value_counts())           # Check distribution of 'type'\n",
    "print(df['rating'].value_counts())         # Check distribution of 'rating'\n",
    "print(df['country'].value_counts().head(20))  # Check top 20 most common countries"
   ]
  },
  {
   "cell_type": "code",
   "execution_count": null,
   "id": "bfb8374a-8b5f-465a-a670-56193a6ccb6a",
   "metadata": {},
   "outputs": [],
   "source": [
    "# Normalize inconsistent 'rating' labels into unified categories\n",
    "df['rating'] = df['rating'].replace({\n",
    "    'NR': 'Unrated',\n",
    "    'UR': 'Unrated',\n",
    "    'Not Rated': 'Unrated',\n",
    "    'UNRATED': 'Unrated',\n",
    "    'TV-Y7-FV': 'TV-Y7'  # Merge variant of TV-Y7\n",
    "})"
   ]
  },
  {
   "cell_type": "code",
   "execution_count": null,
   "id": "d433bc54-7cf9-4065-9725-60161b3c491d",
   "metadata": {},
   "outputs": [],
   "source": [
    "# Standardize 'duration_type' to lowercase for consistency\n",
    "df['duration_type'] = df['duration_type'].str.lower()"
   ]
  },
  {
   "cell_type": "code",
   "execution_count": null,
   "id": "08342429-f3ab-48be-921c-cfe3a2b39ad6",
   "metadata": {},
   "outputs": [],
   "source": [
    "# Check the format and range of 'date_added' column\n",
    "print(\"Date format:\", df['date_added'].dtype)  # Confirm 'date_added' is datetime\n",
    "print(\"Earliest date:\", df['date_added'].min())  # Check earliest date\n",
    "print(\"Latest date:\", df['date_added'].max())    # Check latest date\n",
    "df['date_added'].sample(10, random_state=1)     # Preview 10 random samples"
   ]
  },
  {
   "cell_type": "code",
   "execution_count": null,
   "id": "0dcfe27c-87f5-4e5c-ac15-fe595ea9cb5a",
   "metadata": {},
   "outputs": [],
   "source": [
    "# Calculate the average duration by 'duration_type' (e.g., average movie length)\n",
    "avg_duration = df.groupby('duration_type')['duration_int'].mean().reset_index()\n",
    "print(\"Average duration per type:\")\n",
    "print(avg_duration)"
   ]
  },
  {
   "cell_type": "code",
   "execution_count": null,
   "id": "0151c58d-f3f6-4917-b0a8-be5b37487f71",
   "metadata": {},
   "outputs": [],
   "source": [
    "# Count number of titles per country (using the cleaned 'country' column)\n",
    "country_counts = df['country'].value_counts().reset_index()\n",
    "country_counts.columns = ['country', 'count']\n",
    "print(\"\\nNumber of titles by country:\")\n",
    "print(country_counts.head(10))"
   ]
  },
  {
   "cell_type": "code",
   "execution_count": null,
   "id": "2da03a25-746e-446c-aa0c-c07fd7796d58",
   "metadata": {},
   "outputs": [],
   "source": [
    "# Explode the 'genres' column and count most common genres\n",
    "df_exploded = df.explode('genres')  # Separate multiple genres into individual rows\n",
    "genre_counts = df_exploded['genres'].value_counts().reset_index()  # Count occurrences of each genre\n",
    "genre_counts.columns = ['genre', 'count']  # Rename columns for clarity\n",
    "print(\"\\nMost common genres:\")\n",
    "print(genre_counts.head(10))  # Show top 10 genres"
   ]
  },
  {
   "cell_type": "code",
   "execution_count": null,
   "id": "186c0d03-814a-4049-80a8-cf40bd676f9d",
   "metadata": {},
   "outputs": [],
   "source": [
    "# Count number of titles by release year\n",
    "titles_per_year = df['release_year'].value_counts().sort_index().reset_index()\n",
    "titles_per_year.columns = ['release_year', 'count']\n",
    "print(\"\\n🔹 Titles by release year:\")\n",
    "print(titles_per_year.tail(10))  # Show most recent years"
   ]
  },
  {
   "cell_type": "code",
   "execution_count": null,
   "id": "05d715e5-0ab6-42ad-acb9-b39c72a81ccd",
   "metadata": {},
   "outputs": [],
   "source": [
    "#Export cleaned DataFrame to CSV for SQL import or future use\n",
    "df['platform'] = 'Netflix'\n",
    "df.to_csv('../data/clean/cleaned_netflix_data_with_platform.csv', index=False) #Save\n"
   ]
  },
  {
   "cell_type": "code",
   "execution_count": null,
   "id": "9051f879-4cb4-43ef-88b8-58f124dc0b1a",
   "metadata": {},
   "outputs": [],
   "source": [
    "print(df.columns)\n",
    "# print(df[['show_id', 'title', 'platform']].head())"
   ]
  },
  {
   "cell_type": "code",
   "execution_count": null,
   "id": "bb13d722-3085-4bd6-a485-239a14a77123",
   "metadata": {},
   "outputs": [],
   "source": [
    "import os\n",
    "print(\"File updated successfully:\", os.path.getmtime('../data/clean/cleaned_netflix_data_with_platform.csv'))\n"
   ]
  },
  {
   "cell_type": "code",
   "execution_count": null,
   "id": "38c6c72b-f07a-4f67-9c70-c22ed9fc0785",
   "metadata": {},
   "outputs": [],
   "source": []
  }
 ],
 "metadata": {
  "kernelspec": {
   "display_name": "Python 3 (ipykernel)",
   "language": "python",
   "name": "python3"
  },
  "language_info": {
   "codemirror_mode": {
    "name": "ipython",
    "version": 3
   },
   "file_extension": ".py",
   "mimetype": "text/x-python",
   "name": "python",
   "nbconvert_exporter": "python",
   "pygments_lexer": "ipython3",
   "version": "3.12.7"
  }
 },
 "nbformat": 4,
 "nbformat_minor": 5
}
