{
 "cells": [
  {
   "cell_type": "code",
   "execution_count": 1,
   "id": "18369dea-635d-40de-b50d-cb46d150954d",
   "metadata": {},
   "outputs": [
    {
     "data": {
      "text/html": [
       "<div>\n",
       "<style scoped>\n",
       "    .dataframe tbody tr th:only-of-type {\n",
       "        vertical-align: middle;\n",
       "    }\n",
       "\n",
       "    .dataframe tbody tr th {\n",
       "        vertical-align: top;\n",
       "    }\n",
       "\n",
       "    .dataframe thead th {\n",
       "        text-align: right;\n",
       "    }\n",
       "</style>\n",
       "<table border=\"1\" class=\"dataframe\">\n",
       "  <thead>\n",
       "    <tr style=\"text-align: right;\">\n",
       "      <th></th>\n",
       "      <th>show_id</th>\n",
       "      <th>type</th>\n",
       "      <th>title</th>\n",
       "      <th>director</th>\n",
       "      <th>cast</th>\n",
       "      <th>country</th>\n",
       "      <th>date_added</th>\n",
       "      <th>release_year</th>\n",
       "      <th>rating</th>\n",
       "      <th>duration</th>\n",
       "      <th>listed_in</th>\n",
       "      <th>description</th>\n",
       "    </tr>\n",
       "  </thead>\n",
       "  <tbody>\n",
       "    <tr>\n",
       "      <th>0</th>\n",
       "      <td>s1</td>\n",
       "      <td>Movie</td>\n",
       "      <td>The Grand Seduction</td>\n",
       "      <td>Don McKellar</td>\n",
       "      <td>Brendan Gleeson, Taylor Kitsch, Gordon Pinsent</td>\n",
       "      <td>Canada</td>\n",
       "      <td>March 30, 2021</td>\n",
       "      <td>2014</td>\n",
       "      <td>NaN</td>\n",
       "      <td>113 min</td>\n",
       "      <td>Comedy, Drama</td>\n",
       "      <td>A small fishing village must procure a local d...</td>\n",
       "    </tr>\n",
       "    <tr>\n",
       "      <th>1</th>\n",
       "      <td>s2</td>\n",
       "      <td>Movie</td>\n",
       "      <td>Take Care Good Night</td>\n",
       "      <td>Girish Joshi</td>\n",
       "      <td>Mahesh Manjrekar, Abhay Mahajan, Sachin Khedekar</td>\n",
       "      <td>India</td>\n",
       "      <td>March 30, 2021</td>\n",
       "      <td>2018</td>\n",
       "      <td>13+</td>\n",
       "      <td>110 min</td>\n",
       "      <td>Drama, International</td>\n",
       "      <td>A Metro Family decides to fight a Cyber Crimin...</td>\n",
       "    </tr>\n",
       "    <tr>\n",
       "      <th>2</th>\n",
       "      <td>s3</td>\n",
       "      <td>Movie</td>\n",
       "      <td>Secrets of Deception</td>\n",
       "      <td>Josh Webber</td>\n",
       "      <td>Tom Sizemore, Lorenzo Lamas, Robert LaSardo, R...</td>\n",
       "      <td>United States</td>\n",
       "      <td>March 30, 2021</td>\n",
       "      <td>2017</td>\n",
       "      <td>NaN</td>\n",
       "      <td>74 min</td>\n",
       "      <td>Action, Drama, Suspense</td>\n",
       "      <td>After a man discovers his wife is cheating on ...</td>\n",
       "    </tr>\n",
       "    <tr>\n",
       "      <th>3</th>\n",
       "      <td>s4</td>\n",
       "      <td>Movie</td>\n",
       "      <td>Pink: Staying True</td>\n",
       "      <td>Sonia Anderson</td>\n",
       "      <td>Interviews with: Pink, Adele, Beyoncé, Britney...</td>\n",
       "      <td>United States</td>\n",
       "      <td>March 30, 2021</td>\n",
       "      <td>2014</td>\n",
       "      <td>NaN</td>\n",
       "      <td>69 min</td>\n",
       "      <td>Documentary</td>\n",
       "      <td>Pink breaks the mold once again, bringing her ...</td>\n",
       "    </tr>\n",
       "    <tr>\n",
       "      <th>4</th>\n",
       "      <td>s5</td>\n",
       "      <td>Movie</td>\n",
       "      <td>Monster Maker</td>\n",
       "      <td>Giles Foster</td>\n",
       "      <td>Harry Dean Stanton, Kieran O'Brien, George Cos...</td>\n",
       "      <td>United Kingdom</td>\n",
       "      <td>March 30, 2021</td>\n",
       "      <td>1989</td>\n",
       "      <td>NaN</td>\n",
       "      <td>45 min</td>\n",
       "      <td>Drama, Fantasy</td>\n",
       "      <td>Teenage Matt Banting wants to work with a famo...</td>\n",
       "    </tr>\n",
       "  </tbody>\n",
       "</table>\n",
       "</div>"
      ],
      "text/plain": [
       "  show_id   type                 title        director  \\\n",
       "0      s1  Movie   The Grand Seduction    Don McKellar   \n",
       "1      s2  Movie  Take Care Good Night    Girish Joshi   \n",
       "2      s3  Movie  Secrets of Deception     Josh Webber   \n",
       "3      s4  Movie    Pink: Staying True  Sonia Anderson   \n",
       "4      s5  Movie         Monster Maker    Giles Foster   \n",
       "\n",
       "                                                cast         country  \\\n",
       "0     Brendan Gleeson, Taylor Kitsch, Gordon Pinsent          Canada   \n",
       "1   Mahesh Manjrekar, Abhay Mahajan, Sachin Khedekar           India   \n",
       "2  Tom Sizemore, Lorenzo Lamas, Robert LaSardo, R...   United States   \n",
       "3  Interviews with: Pink, Adele, Beyoncé, Britney...   United States   \n",
       "4  Harry Dean Stanton, Kieran O'Brien, George Cos...  United Kingdom   \n",
       "\n",
       "       date_added  release_year rating duration                listed_in  \\\n",
       "0  March 30, 2021          2014    NaN  113 min            Comedy, Drama   \n",
       "1  March 30, 2021          2018    13+  110 min     Drama, International   \n",
       "2  March 30, 2021          2017    NaN   74 min  Action, Drama, Suspense   \n",
       "3  March 30, 2021          2014    NaN   69 min              Documentary   \n",
       "4  March 30, 2021          1989    NaN   45 min           Drama, Fantasy   \n",
       "\n",
       "                                         description  \n",
       "0  A small fishing village must procure a local d...  \n",
       "1  A Metro Family decides to fight a Cyber Crimin...  \n",
       "2  After a man discovers his wife is cheating on ...  \n",
       "3  Pink breaks the mold once again, bringing her ...  \n",
       "4  Teenage Matt Banting wants to work with a famo...  "
      ]
     },
     "execution_count": 1,
     "metadata": {},
     "output_type": "execute_result"
    }
   ],
   "source": [
    "# Load YAML configuration file\n",
    "import yaml\n",
    "\n",
    "with open(\"../amazon_config.yaml\", \"r\") as file:\n",
    "    config = yaml.safe_load(file)\n",
    "\n",
    "# Load dataset with pandas\n",
    "import pandas as pd\n",
    "df = pd.read_csv(config['input_data']['file'])  # Load dataset based on YAML path\n",
    "df.head()  # Show the first 5 rows of the dataset"
   ]
  },
  {
   "cell_type": "code",
   "execution_count": 3,
   "id": "ffe24f5d-c36d-4012-bc4b-7a53233ceb70",
   "metadata": {},
   "outputs": [
    {
     "name": "stdout",
     "output_type": "stream",
     "text": [
      "<class 'pandas.core.frame.DataFrame'>\n",
      "RangeIndex: 9668 entries, 0 to 9667\n",
      "Data columns (total 12 columns):\n",
      " #   Column        Non-Null Count  Dtype \n",
      "---  ------        --------------  ----- \n",
      " 0   show_id       9668 non-null   object\n",
      " 1   type          9668 non-null   object\n",
      " 2   title         9668 non-null   object\n",
      " 3   director      7585 non-null   object\n",
      " 4   cast          8435 non-null   object\n",
      " 5   country       672 non-null    object\n",
      " 6   date_added    155 non-null    object\n",
      " 7   release_year  9668 non-null   int64 \n",
      " 8   rating        9331 non-null   object\n",
      " 9   duration      9668 non-null   object\n",
      " 10  listed_in     9668 non-null   object\n",
      " 11  description   9668 non-null   object\n",
      "dtypes: int64(1), object(11)\n",
      "memory usage: 906.5+ KB\n"
     ]
    }
   ],
   "source": [
    "# Explore structure and metadata\n",
    "df.shape         # Check number of rows and columns\n",
    "df.columns       # List all column names\n",
    "df.info()        # Get data types and non-null counts per column"
   ]
  },
  {
   "cell_type": "code",
   "execution_count": 5,
   "id": "7301adb3-d58e-457a-9edf-abc12746a7fb",
   "metadata": {},
   "outputs": [
    {
     "data": {
      "text/plain": [
       "date_added      9513\n",
       "country         8996\n",
       "director        2083\n",
       "cast            1233\n",
       "rating           337\n",
       "show_id            0\n",
       "type               0\n",
       "title              0\n",
       "release_year       0\n",
       "duration           0\n",
       "listed_in          0\n",
       "description        0\n",
       "dtype: int64"
      ]
     },
     "execution_count": 5,
     "metadata": {},
     "output_type": "execute_result"
    }
   ],
   "source": [
    "# Check missing values in descending order\n",
    "df.isnull().sum().sort_values(ascending=False)"
   ]
  },
  {
   "cell_type": "code",
   "execution_count": 7,
   "id": "bf42c07a-5d0b-4718-b91d-365ecae7cc25",
   "metadata": {},
   "outputs": [
    {
     "data": {
      "text/plain": [
       "rating\n",
       "13+      2117\n",
       "16+      1547\n",
       "ALL      1268\n",
       "18+      1243\n",
       "R        1010\n",
       "PG-13     393\n",
       "7+        385\n",
       "PG        253\n",
       "NR        223\n",
       "TV-14     208\n",
       "Name: count, dtype: int64"
      ]
     },
     "execution_count": 7,
     "metadata": {},
     "output_type": "execute_result"
    }
   ],
   "source": [
    "# Number of unique values per column\n",
    "df.nunique().sort_values()\n",
    "\n",
    "# Distribution of key categorical columns\n",
    "df['type'].value_counts(normalize=True)  # Distribution of 'Movie' vs 'TV Show'\n",
    "df['country'].value_counts().head(10)    # Top 10 countries\n",
    "df['rating'].value_counts().head(10)     # Most common ratings"
   ]
  },
  {
   "cell_type": "code",
   "execution_count": 9,
   "id": "cbf79246-6a10-44d5-a114-8435b949d91e",
   "metadata": {},
   "outputs": [
    {
     "data": {
      "text/plain": [
       "5282                                        Comedy, Drama\n",
       "2478                                             TV Shows\n",
       "2008                                       Drama, Western\n",
       "7384                                    Suspense, Western\n",
       "8044                                     Horror, Suspense\n",
       "6618                        Documentary, Special Interest\n",
       "1686    Arts, Entertainment, and Culture, Comedy, Spec...\n",
       "2168                                          Documentary\n",
       "6597                                                Drama\n",
       "46                                       Special Interest\n",
       "Name: listed_in, dtype: object"
      ]
     },
     "execution_count": 9,
     "metadata": {},
     "output_type": "execute_result"
    }
   ],
   "source": [
    "# View a sample of the genres column\n",
    "df['listed_in'].sample(10)"
   ]
  },
  {
   "cell_type": "code",
   "execution_count": 11,
   "id": "1b4ab34d-af55-497c-9265-f67d7745c6a2",
   "metadata": {},
   "outputs": [
    {
     "data": {
      "text/plain": [
       "array(['Canada', 'India', 'United States', 'United Kingdom', 'France',\n",
       "       'Spain', nan, 'Italy', 'United Kingdom, France',\n",
       "       'United States, Italy', 'United States, India',\n",
       "       'United Kingdom, United States',\n",
       "       'United States, United Kingdom, Germany', 'Japan',\n",
       "       'China, United States, United Kingdom',\n",
       "       'Denmark, United Kingdom, Czech Republic, Netherlands',\n",
       "       'United States, Ireland', 'United States, United Kingdom, Canada',\n",
       "       'United Kingdom, United States, India', 'United Kingdom, India'],\n",
       "      dtype=object)"
      ]
     },
     "execution_count": 11,
     "metadata": {},
     "output_type": "execute_result"
    }
   ],
   "source": [
    "# Check unique countries\n",
    "df['country'].unique()[:20]"
   ]
  },
  {
   "cell_type": "code",
   "execution_count": 13,
   "id": "f1d3dbf9-c536-4ea5-8ec5-dad86748ceaa",
   "metadata": {},
   "outputs": [
    {
     "data": {
      "text/html": [
       "<div>\n",
       "<style scoped>\n",
       "    .dataframe tbody tr th:only-of-type {\n",
       "        vertical-align: middle;\n",
       "    }\n",
       "\n",
       "    .dataframe tbody tr th {\n",
       "        vertical-align: top;\n",
       "    }\n",
       "\n",
       "    .dataframe thead th {\n",
       "        text-align: right;\n",
       "    }\n",
       "</style>\n",
       "<table border=\"1\" class=\"dataframe\">\n",
       "  <thead>\n",
       "    <tr style=\"text-align: right;\">\n",
       "      <th></th>\n",
       "      <th>duration</th>\n",
       "      <th>duration_int</th>\n",
       "      <th>duration_type</th>\n",
       "    </tr>\n",
       "  </thead>\n",
       "  <tbody>\n",
       "    <tr>\n",
       "      <th>0</th>\n",
       "      <td>113 min</td>\n",
       "      <td>113</td>\n",
       "      <td>min</td>\n",
       "    </tr>\n",
       "    <tr>\n",
       "      <th>1</th>\n",
       "      <td>110 min</td>\n",
       "      <td>110</td>\n",
       "      <td>min</td>\n",
       "    </tr>\n",
       "    <tr>\n",
       "      <th>2</th>\n",
       "      <td>74 min</td>\n",
       "      <td>74</td>\n",
       "      <td>min</td>\n",
       "    </tr>\n",
       "    <tr>\n",
       "      <th>3</th>\n",
       "      <td>69 min</td>\n",
       "      <td>69</td>\n",
       "      <td>min</td>\n",
       "    </tr>\n",
       "    <tr>\n",
       "      <th>4</th>\n",
       "      <td>45 min</td>\n",
       "      <td>45</td>\n",
       "      <td>min</td>\n",
       "    </tr>\n",
       "  </tbody>\n",
       "</table>\n",
       "</div>"
      ],
      "text/plain": [
       "  duration  duration_int duration_type\n",
       "0  113 min           113           min\n",
       "1  110 min           110           min\n",
       "2   74 min            74           min\n",
       "3   69 min            69           min\n",
       "4   45 min            45           min"
      ]
     },
     "execution_count": 13,
     "metadata": {},
     "output_type": "execute_result"
    }
   ],
   "source": [
    "# Split 'duration' column into duration value and type (e.g., \"90 min\" → 90 + 'min')\n",
    "df[['duration_int', 'duration_type']] = df['duration'].str.extract(r'(\\d+)\\s*(\\w+)')\n",
    "df['duration_int'] = pd.to_numeric(df['duration_int'], errors='coerce')  # Convert to numeric\n",
    "df[['duration', 'duration_int', 'duration_type']].head()  # Preview new columns"
   ]
  },
  {
   "cell_type": "code",
   "execution_count": 15,
   "id": "eb5492da-ccb3-4423-9b75-2100203d452d",
   "metadata": {},
   "outputs": [
    {
     "data": {
      "text/plain": [
       "dtype('<M8[ns]')"
      ]
     },
     "execution_count": 15,
     "metadata": {},
     "output_type": "execute_result"
    }
   ],
   "source": [
    "# Convert 'date_added' column to datetime format\n",
    "df['date_added'] = pd.to_datetime(df['date_added'], errors='coerce') # Convert to datetime\n",
    "df['date_added'].dtype  # Confirm conversion"
   ]
  },
  {
   "cell_type": "code",
   "execution_count": 17,
   "id": "5b1e8658-0381-4aaf-bc84-9ae66449899f",
   "metadata": {},
   "outputs": [
    {
     "data": {
      "text/html": [
       "<div>\n",
       "<style scoped>\n",
       "    .dataframe tbody tr th:only-of-type {\n",
       "        vertical-align: middle;\n",
       "    }\n",
       "\n",
       "    .dataframe tbody tr th {\n",
       "        vertical-align: top;\n",
       "    }\n",
       "\n",
       "    .dataframe thead th {\n",
       "        text-align: right;\n",
       "    }\n",
       "</style>\n",
       "<table border=\"1\" class=\"dataframe\">\n",
       "  <thead>\n",
       "    <tr style=\"text-align: right;\">\n",
       "      <th></th>\n",
       "      <th>listed_in</th>\n",
       "      <th>genres</th>\n",
       "    </tr>\n",
       "  </thead>\n",
       "  <tbody>\n",
       "    <tr>\n",
       "      <th>6441</th>\n",
       "      <td>Drama, Suspense</td>\n",
       "      <td>[Drama, Suspense]</td>\n",
       "    </tr>\n",
       "    <tr>\n",
       "      <th>5626</th>\n",
       "      <td>Documentary, Special Interest</td>\n",
       "      <td>[Documentary, Special Interest]</td>\n",
       "    </tr>\n",
       "    <tr>\n",
       "      <th>5083</th>\n",
       "      <td>Animation, Kids</td>\n",
       "      <td>[Animation, Kids]</td>\n",
       "    </tr>\n",
       "    <tr>\n",
       "      <th>5962</th>\n",
       "      <td>Arts, Entertainment, and Culture, Comedy, Spec...</td>\n",
       "      <td>[Arts, Entertainment, and Culture, Comedy, Spe...</td>\n",
       "    </tr>\n",
       "    <tr>\n",
       "      <th>7759</th>\n",
       "      <td>Comedy</td>\n",
       "      <td>[Comedy]</td>\n",
       "    </tr>\n",
       "  </tbody>\n",
       "</table>\n",
       "</div>"
      ],
      "text/plain": [
       "                                              listed_in  \\\n",
       "6441                                    Drama, Suspense   \n",
       "5626                      Documentary, Special Interest   \n",
       "5083                                    Animation, Kids   \n",
       "5962  Arts, Entertainment, and Culture, Comedy, Spec...   \n",
       "7759                                             Comedy   \n",
       "\n",
       "                                                 genres  \n",
       "6441                                  [Drama, Suspense]  \n",
       "5626                    [Documentary, Special Interest]  \n",
       "5083                                  [Animation, Kids]  \n",
       "5962  [Arts, Entertainment, and Culture, Comedy, Spe...  \n",
       "7759                                           [Comedy]  "
      ]
     },
     "execution_count": 17,
     "metadata": {},
     "output_type": "execute_result"
    }
   ],
   "source": [
    "# Split genres into lists (for multi-label classification)\n",
    "df['genres'] = df['listed_in'].str.split(', ') # Split genre strings into lists\n",
    "df[['listed_in', 'genres']].sample(5)  # Check results"
   ]
  },
  {
   "cell_type": "code",
   "execution_count": 19,
   "id": "38fa55cf-54d4-4c25-b844-d8d092bd4f8b",
   "metadata": {},
   "outputs": [
    {
     "data": {
      "text/plain": [
       "duration_type\n",
       "min       7814\n",
       "Season    1854\n",
       "Name: count, dtype: int64"
      ]
     },
     "execution_count": 19,
     "metadata": {},
     "output_type": "execute_result"
    }
   ],
   "source": [
    "# Frequency of duration types (e.g., 'min', 'Season')\n",
    "df['duration_type'].value_counts() # Check types of duration (minutes or seasons)\n",
    "\n",
    "# Standardize plural form to singular ('Seasons' → 'Season')\n",
    "df['duration_type'] = df['duration_type'].replace('Seasons', 'Season') # Normalize to singular\n",
    "df['duration_type'].value_counts()  # Confirm correction"
   ]
  },
  {
   "cell_type": "code",
   "execution_count": 21,
   "id": "177ff205-c6fa-415b-adba-9c56fb54a5f3",
   "metadata": {},
   "outputs": [
    {
     "data": {
      "text/html": [
       "<div>\n",
       "<style scoped>\n",
       "    .dataframe tbody tr th:only-of-type {\n",
       "        vertical-align: middle;\n",
       "    }\n",
       "\n",
       "    .dataframe tbody tr th {\n",
       "        vertical-align: top;\n",
       "    }\n",
       "\n",
       "    .dataframe thead th {\n",
       "        text-align: right;\n",
       "    }\n",
       "</style>\n",
       "<table border=\"1\" class=\"dataframe\">\n",
       "  <thead>\n",
       "    <tr style=\"text-align: right;\">\n",
       "      <th></th>\n",
       "      <th>duration</th>\n",
       "    </tr>\n",
       "  </thead>\n",
       "  <tbody>\n",
       "  </tbody>\n",
       "</table>\n",
       "</div>"
      ],
      "text/plain": [
       "Empty DataFrame\n",
       "Columns: [duration]\n",
       "Index: []"
      ]
     },
     "execution_count": 21,
     "metadata": {},
     "output_type": "execute_result"
    }
   ],
   "source": [
    "# Check for missing values in 'duration_int'\n",
    "df['duration_int'].isnull().sum()  # Check how many null durations remain\n",
    "# Keep only rows where 'duration_int' is not null\n",
    "df = df[df['duration_int'].notna()]  # Filter out rows without valid duration\n",
    "# Inspect rows where duration was missing\n",
    "df[df['duration_int'].isna()][['duration']]\n"
   ]
  },
  {
   "cell_type": "code",
   "execution_count": 23,
   "id": "5b3c4802-c72c-4e13-9941-5649f9428596",
   "metadata": {},
   "outputs": [
    {
     "name": "stdout",
     "output_type": "stream",
     "text": [
      "Number of rows after removing duplicates: 9668\n"
     ]
    }
   ],
   "source": [
    "# Remove duplicated rows based on 'show_id', 'title', and 'release_year'\n",
    "df = df.drop_duplicates(subset=['show_id', 'title', 'release_year'])  # Remove duplicates\n",
    "print(\"Number of rows after removing duplicates:\", df.shape[0])  # Check number of rows after deduplication"
   ]
  },
  {
   "cell_type": "code",
   "execution_count": 25,
   "id": "161d1387-7808-4989-8775-3556d12a8448",
   "metadata": {},
   "outputs": [
    {
     "name": "stdout",
     "output_type": "stream",
     "text": [
      "Remaining duplicates: 0\n"
     ]
    }
   ],
   "source": [
    "# Confirm that duplicates are removed\n",
    "duplicates = df.duplicated(subset=['show_id', 'title', 'release_year']).sum()  # Count remaining duplicates\n",
    "print(\"Remaining duplicates:\", duplicates) "
   ]
  },
  {
   "cell_type": "code",
   "execution_count": 27,
   "id": "247b4264-ff75-4c16-8ec0-0385cd08e9bd",
   "metadata": {},
   "outputs": [
    {
     "data": {
      "text/plain": [
       "date_added       9513\n",
       "country          8996\n",
       "director         2083\n",
       "cast             1233\n",
       "rating            337\n",
       "show_id             0\n",
       "type                0\n",
       "title               0\n",
       "release_year        0\n",
       "duration            0\n",
       "listed_in           0\n",
       "description         0\n",
       "duration_int        0\n",
       "duration_type       0\n",
       "genres              0\n",
       "dtype: int64"
      ]
     },
     "execution_count": 27,
     "metadata": {},
     "output_type": "execute_result"
    }
   ],
   "source": [
    "# Check missing values again per column (after cleaning)\n",
    "df.isnull().sum().sort_values(ascending=False)"
   ]
  },
  {
   "cell_type": "code",
   "execution_count": 29,
   "id": "3a421502-6259-4e12-b363-920115fab246",
   "metadata": {},
   "outputs": [
    {
     "name": "stdout",
     "output_type": "stream",
     "text": [
      "Number of missing values in 'country' after cleaning: 8996\n",
      "\n",
      "Missing values per column after filling:\n",
      "show_id          0\n",
      "type             0\n",
      "title            0\n",
      "director         0\n",
      "cast             0\n",
      "country          0\n",
      "date_added       0\n",
      "release_year     0\n",
      "rating           0\n",
      "duration         0\n",
      "listed_in        0\n",
      "description      0\n",
      "duration_int     0\n",
      "duration_type    0\n",
      "genres           0\n",
      "dtype: int64\n"
     ]
    }
   ],
   "source": [
    "import numpy as np  # Asegúrate de importar numpy para poder usar np.nan\n",
    "\n",
    "# Fill missing values with appropriate defaults\n",
    "\n",
    "# 1. Replace missing 'director' with \"Unknown\"\n",
    "df['director'] = df['director'].fillna(\"Unknown\")\n",
    "\n",
    "# 2. Replace missing 'cast' with \"Unknown\"\n",
    "df['cast'] = df['cast'].fillna(\"Unknown\")\n",
    "\n",
    "# 3. Clean the 'country' column: replace empty strings or spaces with NaN, then fill with \"Unknown\"\n",
    "df['country'] = df['country'].str.strip()  # Remove extra spaces\n",
    "df['country'] = df['country'].replace(['', ' '], np.nan)  # Replace empty or space-only cells with NaN\n",
    "\n",
    "# Check how many null values there are now in 'cou ntry'\n",
    "print(\"Number of missing values in 'country' after cleaning:\", df['country'].isnull().sum())\n",
    "\n",
    "# Fill missing 'country' with \"Unknown\"\n",
    "df['country'] = df['country'].fillna(\"Unknown\")\n",
    "\n",
    "# 4. Drop rows where 'date_added' is missing\n",
    "df = df[df['date_added'].notna()]\n",
    "\n",
    "# 5. Replace missing 'rating' with \"Not Rated\"\n",
    "df['rating'] = df['rating'].fillna(\"Not Rated\")\n",
    "\n",
    "# Final check: confirm there are no missing values left\n",
    "print(\"\\nMissing values per column after filling:\")\n",
    "print(df.isnull().sum().sort_values(ascending=False))\n"
   ]
  },
  {
   "cell_type": "code",
   "execution_count": 31,
   "id": "37cc1394-0caf-4245-b93b-624702c2bba9",
   "metadata": {},
   "outputs": [
    {
     "data": {
      "text/plain": [
       "show_id          0\n",
       "type             0\n",
       "title            0\n",
       "director         0\n",
       "cast             0\n",
       "country          0\n",
       "date_added       0\n",
       "release_year     0\n",
       "rating           0\n",
       "duration         0\n",
       "listed_in        0\n",
       "description      0\n",
       "duration_int     0\n",
       "duration_type    0\n",
       "genres           0\n",
       "dtype: int64"
      ]
     },
     "execution_count": 31,
     "metadata": {},
     "output_type": "execute_result"
    }
   ],
   "source": [
    "# Confirm again that no missing values remain after filling\n",
    "df.isnull().sum().sort_values(ascending=False)"
   ]
  },
  {
   "cell_type": "code",
   "execution_count": 64,
   "id": "1a324737-4e1a-4988-9ef8-ab49eae6fe71",
   "metadata": {},
   "outputs": [],
   "source": [
    "# Define a function to extract the first country if there are multiple listed\n",
    "def extract_first_country(country):\n",
    "    if isinstance(country, str):\n",
    "        return country.split(',')[0]  # Keep only the first country\n",
    "    return country\n",
    "\n",
    "# Apply the function to create a cleaned 'country' column\n",
    "df['country'] = df['country'].apply(extract_first_country)"
   ]
  },
  {
   "cell_type": "code",
   "execution_count": 35,
   "id": "ce6f5d8f-56ab-4320-aa8f-f1ce86737329",
   "metadata": {},
   "outputs": [
    {
     "name": "stdout",
     "output_type": "stream",
     "text": [
      "duration_type\n",
      "Season    139\n",
      "min        16\n",
      "Name: count, dtype: int64\n",
      "type\n",
      "TV Show    139\n",
      "Movie       16\n",
      "Name: count, dtype: int64\n",
      "rating\n",
      "ALL          35\n",
      "13+          20\n",
      "Not Rated    15\n",
      "16+          15\n",
      "TV-G         13\n",
      "TV-Y         10\n",
      "TV-14        10\n",
      "18+           8\n",
      "7+            7\n",
      "TV-NR         5\n",
      "TV-MA         5\n",
      "TV-Y7         5\n",
      "TV-PG         4\n",
      "NR            3\n",
      "Name: count, dtype: int64\n",
      "country\n",
      "Unknown           129\n",
      "United States      14\n",
      "Canada              3\n",
      "United Kingdom      3\n",
      "Spain               3\n",
      "India               2\n",
      "France              1\n",
      "Name: count, dtype: int64\n"
     ]
    }
   ],
   "source": [
    "# Quick check of distributions on key columns\n",
    "print(df['duration_type'].value_counts())  # Check distribution of 'duration_type'\n",
    "print(df['type'].value_counts())           # Check distribution of 'type'\n",
    "print(df['rating'].value_counts())         # Check distribution of 'rating'\n",
    "print(df['country'].value_counts().head(20))  # Check top 20 most common countries"
   ]
  },
  {
   "cell_type": "code",
   "execution_count": 37,
   "id": "bfb8374a-8b5f-465a-a670-56193a6ccb6a",
   "metadata": {},
   "outputs": [],
   "source": [
    "# Normalize inconsistent 'rating' labels into unified categories\n",
    "df['rating'] = df['rating'].replace({\n",
    "    'NR': 'Unrated',\n",
    "    'UR': 'Unrated',\n",
    "    'Not Rated': 'Unrated',\n",
    "    'UNRATED': 'Unrated',\n",
    "    'TV-Y7-FV': 'TV-Y7'  # Merge variant of TV-Y7\n",
    "})"
   ]
  },
  {
   "cell_type": "code",
   "execution_count": 39,
   "id": "d433bc54-7cf9-4065-9725-60161b3c491d",
   "metadata": {},
   "outputs": [],
   "source": [
    "# Standardize 'duration_type' to lowercase for consistency\n",
    "df['duration_type'] = df['duration_type'].str.lower()"
   ]
  },
  {
   "cell_type": "code",
   "execution_count": 41,
   "id": "08342429-f3ab-48be-921c-cfe3a2b39ad6",
   "metadata": {},
   "outputs": [
    {
     "name": "stdout",
     "output_type": "stream",
     "text": [
      "Date format: datetime64[ns]\n",
      "Earliest date: 2021-03-30 00:00:00\n",
      "Latest date: 2021-10-10 00:00:00\n"
     ]
    },
    {
     "data": {
      "text/plain": [
       "8696   2021-09-17\n",
       "6568   2021-07-17\n",
       "5855   2021-06-15\n",
       "4783   2021-05-01\n",
       "5041   2021-05-12\n",
       "5379   2021-05-24\n",
       "14     2021-05-02\n",
       "8437   2021-09-09\n",
       "5920   2021-06-18\n",
       "9401   2021-10-05\n",
       "Name: date_added, dtype: datetime64[ns]"
      ]
     },
     "execution_count": 41,
     "metadata": {},
     "output_type": "execute_result"
    }
   ],
   "source": [
    "# Check the format and range of 'date_added' column\n",
    "print(\"Date format:\", df['date_added'].dtype)  # Confirm 'date_added' is datetime\n",
    "print(\"Earliest date:\", df['date_added'].min())  # Check earliest date\n",
    "print(\"Latest date:\", df['date_added'].max())    # Check latest date\n",
    "df['date_added'].sample(10, random_state=1)     # Preview 10 random samples"
   ]
  },
  {
   "cell_type": "code",
   "execution_count": 43,
   "id": "0dcfe27c-87f5-4e5c-ac15-fe595ea9cb5a",
   "metadata": {},
   "outputs": [
    {
     "name": "stdout",
     "output_type": "stream",
     "text": [
      "Average duration per type:\n",
      "  duration_type  duration_int\n",
      "0           min     85.125000\n",
      "1        season      3.071942\n"
     ]
    }
   ],
   "source": [
    "# Calculate the average duration by 'duration_type' (e.g., average movie length)\n",
    "avg_duration = df.groupby('duration_type')['duration_int'].mean().reset_index()\n",
    "print(\"Average duration per type:\")\n",
    "print(avg_duration)"
   ]
  },
  {
   "cell_type": "code",
   "execution_count": 45,
   "id": "0151c58d-f3f6-4917-b0a8-be5b37487f71",
   "metadata": {},
   "outputs": [
    {
     "name": "stdout",
     "output_type": "stream",
     "text": [
      "\n",
      "Number of titles by country:\n",
      "          country  count\n",
      "0         Unknown    129\n",
      "1   United States     14\n",
      "2          Canada      3\n",
      "3  United Kingdom      3\n",
      "4           Spain      3\n",
      "5           India      2\n",
      "6          France      1\n"
     ]
    }
   ],
   "source": [
    "# Count number of titles per country (using the cleaned 'country' column)\n",
    "country_counts = df['country'].value_counts().reset_index()\n",
    "country_counts.columns = ['country', 'count']\n",
    "print(\"\\nNumber of titles by country:\")\n",
    "print(country_counts.head(10))"
   ]
  },
  {
   "cell_type": "code",
   "execution_count": 47,
   "id": "2da03a25-746e-446c-aa0c-c07fd7796d58",
   "metadata": {},
   "outputs": [
    {
     "name": "stdout",
     "output_type": "stream",
     "text": [
      "\n",
      "Most common genres:\n",
      "              genre  count\n",
      "0              Kids     59\n",
      "1         Animation     44\n",
      "2            Comedy     30\n",
      "3             Drama     30\n",
      "4       Documentary     24\n",
      "5            Action     18\n",
      "6  Special Interest     17\n",
      "7            Sports     13\n",
      "8          Suspense     13\n",
      "9        Unscripted     11\n"
     ]
    }
   ],
   "source": [
    "# Explode the 'genres' column and count most common genres\n",
    "df_exploded = df.explode('genres')  # Separate multiple genres into individual rows\n",
    "genre_counts = df_exploded['genres'].value_counts().reset_index()  # Count occurrences of each genre\n",
    "genre_counts.columns = ['genre', 'count']  # Rename columns for clarity\n",
    "print(\"\\nMost common genres:\")\n",
    "print(genre_counts.head(10))  # Show top 10 genres"
   ]
  },
  {
   "cell_type": "code",
   "execution_count": 68,
   "id": "186c0d03-814a-4049-80a8-cf40bd676f9d",
   "metadata": {},
   "outputs": [
    {
     "name": "stdout",
     "output_type": "stream",
     "text": [
      "\n",
      "🔹 Titles by release year:\n",
      "    release_year  count\n",
      "15          2012      3\n",
      "16          2013      4\n",
      "17          2014      6\n",
      "18          2015      5\n",
      "19          2016      9\n",
      "20          2017     10\n",
      "21          2018     14\n",
      "22          2019     12\n",
      "23          2020     12\n",
      "24          2021     53\n"
     ]
    }
   ],
   "source": [
    "# Count number of titles by release year\n",
    "titles_per_year = df['release_year'].value_counts().sort_index().reset_index()\n",
    "titles_per_year.columns = ['release_year', 'count']\n",
    "print(\"\\n🔹 Titles by release year:\")\n",
    "print(titles_per_year.tail(10))  # Show most recent years"
   ]
  },
  {
   "cell_type": "code",
   "execution_count": 74,
   "id": "05d715e5-0ab6-42ad-acb9-b39c72a81ccd",
   "metadata": {},
   "outputs": [
    {
     "name": "stdout",
     "output_type": "stream",
     "text": [
      "platform\n",
      "Prime    155\n",
      "Name: count, dtype: int64\n",
      "(155, 16)\n"
     ]
    }
   ],
   "source": [
    "#Export cleaned DataFrame to CSV for SQL import or future use\n",
    "df['platform'] = 'Prime'\n",
    "df.to_csv('../data/clean/cleaned_prime_data.csv', index=False) #Save\n",
    "import pandas as pd\n",
    "df = pd.read_csv('../data/clean/cleaned_prime_data.csv')\n",
    "print(df['platform'].value_counts())\n",
    "print(df.shape)"
   ]
  },
  {
   "cell_type": "code",
   "execution_count": 53,
   "id": "9051f879-4cb4-43ef-88b8-58f124dc0b1a",
   "metadata": {},
   "outputs": [
    {
     "name": "stdout",
     "output_type": "stream",
     "text": [
      "Index(['show_id', 'type', 'title', 'director', 'cast', 'country', 'date_added',\n",
      "       'release_year', 'rating', 'duration', 'listed_in', 'description',\n",
      "       'duration_int', 'duration_type', 'genres', 'platform'],\n",
      "      dtype='object')\n",
      "  show_id                 title platform\n",
      "0      s1   The Grand Seduction    Prime\n",
      "1      s2  Take Care Good Night    Prime\n",
      "2      s3  Secrets of Deception    Prime\n",
      "3      s4    Pink: Staying True    Prime\n",
      "4      s5         Monster Maker    Prime\n"
     ]
    }
   ],
   "source": [
    "print(df.columns)\n",
    "print(df[['show_id', 'title', 'platform']].head())"
   ]
  },
  {
   "cell_type": "code",
   "execution_count": 61,
   "id": "bb13d722-3085-4bd6-a485-239a14a77123",
   "metadata": {},
   "outputs": [
    {
     "name": "stdout",
     "output_type": "stream",
     "text": [
      "File updated successfully: 1745333935.8988771\n"
     ]
    }
   ],
   "source": [
    "import os\n",
    "print(\"File updated successfully:\", os.path.getmtime('../data/clean/cleaned_prime_data.csv'))\n"
   ]
  },
  {
   "cell_type": "code",
   "execution_count": null,
   "id": "a3eac08b-96ab-46df-80e3-1cdd44322933",
   "metadata": {},
   "outputs": [],
   "source": []
  },
  {
   "cell_type": "code",
   "execution_count": null,
   "id": "a29cfa4a-0c7c-4e67-a327-f9fca87165f3",
   "metadata": {},
   "outputs": [],
   "source": []
  },
  {
   "cell_type": "code",
   "execution_count": null,
   "id": "9cd1c7de-1551-4d59-bbea-f25d6e704df9",
   "metadata": {},
   "outputs": [],
   "source": []
  },
  {
   "cell_type": "code",
   "execution_count": null,
   "id": "79847a69-9073-48a6-9aef-b858022ca4d8",
   "metadata": {},
   "outputs": [],
   "source": []
  }
 ],
 "metadata": {
  "kernelspec": {
   "display_name": "Python 3 (ipykernel)",
   "language": "python",
   "name": "python3"
  },
  "language_info": {
   "codemirror_mode": {
    "name": "ipython",
    "version": 3
   },
   "file_extension": ".py",
   "mimetype": "text/x-python",
   "name": "python",
   "nbconvert_exporter": "python",
   "pygments_lexer": "ipython3",
   "version": "3.12.7"
  }
 },
 "nbformat": 4,
 "nbformat_minor": 5
}
