{
 "cells": [
  {
   "cell_type": "code",
   "execution_count": null,
   "id": "692aebf3-87b4-4134-8b37-24c320785800",
   "metadata": {},
   "outputs": [],
   "source": [
    "# Import libraries\n",
    "import pandas as pd\n",
    "\n",
    "# Load cleaned Netflix dataset\n",
    "netflix_df = pd.read_csv('../data/clean/cleaned_netflix_data_with_platform.csv')\n",
    "\n",
    "# Load cleaned Amazon dataset\n",
    "amazon_df = pd.read_csv('../data/clean/cleaned_prime_data.csv')"
   ]
  },
  {
   "cell_type": "code",
   "execution_count": null,
   "id": "86546322-e318-4f07-8cc3-bf69c8231cc2",
   "metadata": {},
   "outputs": [],
   "source": [
    "# Check columns to ensure alignment\n",
    "print(\"Netflix columns:\", netflix_df.columns)\n",
    "print(\"Amazon columns:\", amazon_df.columns)"
   ]
  },
  {
   "cell_type": "code",
   "execution_count": null,
   "id": "34986c7a-0955-4dfb-a5e6-ed2db705a074",
   "metadata": {},
   "outputs": [],
   "source": [
    "# Combine datasets\n",
    "combined_df = pd.concat([netflix_df, amazon_df], ignore_index=True)"
   ]
  },
  {
   "cell_type": "code",
   "execution_count": null,
   "id": "54e3c616-ed43-40d9-a108-479301afe6ee",
   "metadata": {},
   "outputs": [],
   "source": [
    "# Quick check\n",
    "print(combined_df.shape)\n",
    "print(combined_df['platform'].value_counts())"
   ]
  },
  {
   "cell_type": "code",
   "execution_count": null,
   "id": "9fa36f85-b251-4e2d-a9a2-98c5dc6b5b0b",
   "metadata": {},
   "outputs": [],
   "source": [
    "# Export combined dataset\n",
    "combined_df.to_csv('../data/clean/combined_cleaned_data.csv', index=False)\n",
    "print(\"Combined!\")\n"
   ]
  },
  {
   "cell_type": "code",
   "execution_count": null,
   "id": "708a1a35-8d05-4c48-9e22-b13807299c1a",
   "metadata": {},
   "outputs": [],
   "source": [
    "combined_df = pd.read_csv('../data/clean/combined_cleaned_data.csv')\n",
    "combined_df.info()\n",
    "combined_df.head()\n"
   ]
  }
 ],
 "metadata": {
  "kernelspec": {
   "display_name": "Python 3 (ipykernel)",
   "language": "python",
   "name": "python3"
  },
  "language_info": {
   "codemirror_mode": {
    "name": "ipython",
    "version": 3
   },
   "file_extension": ".py",
   "mimetype": "text/x-python",
   "name": "python",
   "nbconvert_exporter": "python",
   "pygments_lexer": "ipython3",
   "version": "3.12.7"
  }
 },
 "nbformat": 4,
 "nbformat_minor": 5
}
