{
 "cells": [
  {
   "cell_type": "code",
   "execution_count": 9,
   "id": "ba7b23e2-1249-48ee-ae4a-fff9cb3a0491",
   "metadata": {},
   "outputs": [
    {
     "ename": "NameError",
     "evalue": "name 'functions' is not defined",
     "output_type": "error",
     "traceback": [
      "\u001b[1;31m---------------------------------------------------------------------------\u001b[0m",
      "\u001b[1;31mNameError\u001b[0m                                 Traceback (most recent call last)",
      "Cell \u001b[1;32mIn[9], line 1\u001b[0m\n\u001b[1;32m----> 1\u001b[0m functions\u001b[38;5;241m.\u001b[39mpy\n\u001b[0;32m      2\u001b[0m \u001b[38;5;28;01mimport\u001b[39;00m \u001b[38;5;21;01mpandas\u001b[39;00m \u001b[38;5;28;01mas\u001b[39;00m \u001b[38;5;21;01mpd\u001b[39;00m\n\u001b[0;32m      4\u001b[0m \u001b[38;5;28;01mdef\u001b[39;00m \u001b[38;5;21mclean_duration_column\u001b[39m(df):\n",
      "\u001b[1;31mNameError\u001b[0m: name 'functions' is not defined"
     ]
    }
   ],
   "source": [
    "\n",
    "import pandas as pd\n",
    "\n",
    "def clean_duration_column(df):\n",
    "    df[['duration_int', 'duration_type']] = df['duration'].str.extract(r'(\\d+)\\s*(\\w+)')\n",
    "\n",
    "    df['duration_int'] = pd.to_numeric(df['duration_int'], errors='coerce')\n",
    "\n",
    "    df['duration_type'] = df['duration_type'].replace('Seasons', 'Season')\n",
    "\n",
    "    df = df[df['duration_int'].notna()]\n",
    "\n",
    "    return df"
   ]
  },
  {
   "cell_type": "code",
   "execution_count": 5,
   "id": "b3ec09a8-7bff-47a4-a817-6654f97b7011",
   "metadata": {},
   "outputs": [],
   "source": [
    "def split_genres_column(df):\n",
    "    \"\"\"\n",
    "    Splits the 'listed_in' column into a list of genres and stores it in a new 'genres' column.\n",
    "    \"\"\"\n",
    "    df['genres'] = df['listed_in'].str.split(', ')\n",
    "    return df\n",
    "    "
   ]
  },
  {
   "cell_type": "code",
   "execution_count": 7,
   "id": "140a01ac-02d7-444c-886c-33d6527561f8",
   "metadata": {},
   "outputs": [
    {
     "ename": "ModuleNotFoundError",
     "evalue": "No module named 'functions'",
     "output_type": "error",
     "traceback": [
      "\u001b[1;31m---------------------------------------------------------------------------\u001b[0m",
      "\u001b[1;31mModuleNotFoundError\u001b[0m                       Traceback (most recent call last)",
      "Cell \u001b[1;32mIn[7], line 1\u001b[0m\n\u001b[1;32m----> 1\u001b[0m \u001b[38;5;28;01mfrom\u001b[39;00m \u001b[38;5;21;01mfunctions\u001b[39;00m \u001b[38;5;28;01mimport\u001b[39;00m split_genres_column\n\u001b[0;32m      3\u001b[0m df \u001b[38;5;241m=\u001b[39m split_genres_column(df)\n\u001b[0;32m      4\u001b[0m df[[\u001b[38;5;124m'\u001b[39m\u001b[38;5;124mlisted_in\u001b[39m\u001b[38;5;124m'\u001b[39m, \u001b[38;5;124m'\u001b[39m\u001b[38;5;124mgenres\u001b[39m\u001b[38;5;124m'\u001b[39m]]\u001b[38;5;241m.\u001b[39msample(\u001b[38;5;241m5\u001b[39m)\n",
      "\u001b[1;31mModuleNotFoundError\u001b[0m: No module named 'functions'"
     ]
    }
   ],
   "source": [
    "from functions import split_genres_column\n",
    "\n",
    "df = split_genres_column(df)\n",
    "df[['listed_in', 'genres']].sample(5)"
   ]
  }
 ],
 "metadata": {
  "kernelspec": {
   "display_name": "Python 3 (ipykernel)",
   "language": "python",
   "name": "python3"
  },
  "language_info": {
   "codemirror_mode": {
    "name": "ipython",
    "version": 3
   },
   "file_extension": ".py",
   "mimetype": "text/x-python",
   "name": "python",
   "nbconvert_exporter": "python",
   "pygments_lexer": "ipython3",
   "version": "3.12.7"
  }
 },
 "nbformat": 4,
 "nbformat_minor": 5
}
