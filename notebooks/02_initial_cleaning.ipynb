{
 "cells": [
  {
   "cell_type": "code",
   "execution_count": 3,
   "id": "18369dea-635d-40de-b50d-cb46d150954d",
   "metadata": {},
   "outputs": [
    {
     "data": {
      "text/html": [
       "<div>\n",
       "<style scoped>\n",
       "    .dataframe tbody tr th:only-of-type {\n",
       "        vertical-align: middle;\n",
       "    }\n",
       "\n",
       "    .dataframe tbody tr th {\n",
       "        vertical-align: top;\n",
       "    }\n",
       "\n",
       "    .dataframe thead th {\n",
       "        text-align: right;\n",
       "    }\n",
       "</style>\n",
       "<table border=\"1\" class=\"dataframe\">\n",
       "  <thead>\n",
       "    <tr style=\"text-align: right;\">\n",
       "      <th></th>\n",
       "      <th>show_id</th>\n",
       "      <th>type</th>\n",
       "      <th>title</th>\n",
       "      <th>director</th>\n",
       "      <th>cast</th>\n",
       "      <th>country</th>\n",
       "      <th>date_added</th>\n",
       "      <th>release_year</th>\n",
       "      <th>rating</th>\n",
       "      <th>duration</th>\n",
       "      <th>listed_in</th>\n",
       "      <th>description</th>\n",
       "      <th>duration_int</th>\n",
       "      <th>duration_type</th>\n",
       "      <th>genres</th>\n",
       "    </tr>\n",
       "  </thead>\n",
       "  <tbody>\n",
       "    <tr>\n",
       "      <th>0</th>\n",
       "      <td>s1</td>\n",
       "      <td>Movie</td>\n",
       "      <td>Dick Johnson Is Dead</td>\n",
       "      <td>Kirsten Johnson</td>\n",
       "      <td>Unknown</td>\n",
       "      <td>United States</td>\n",
       "      <td>2021-09-25</td>\n",
       "      <td>2020</td>\n",
       "      <td>PG-13</td>\n",
       "      <td>90 min</td>\n",
       "      <td>Documentaries</td>\n",
       "      <td>As her father nears the end of his life, filmm...</td>\n",
       "      <td>90.0</td>\n",
       "      <td>min</td>\n",
       "      <td>['Documentaries']</td>\n",
       "    </tr>\n",
       "    <tr>\n",
       "      <th>1</th>\n",
       "      <td>s2</td>\n",
       "      <td>TV Show</td>\n",
       "      <td>Blood &amp; Water</td>\n",
       "      <td>Unknown</td>\n",
       "      <td>Ama Qamata, Khosi Ngema, Gail Mabalane, Thaban...</td>\n",
       "      <td>South Africa</td>\n",
       "      <td>2021-09-24</td>\n",
       "      <td>2021</td>\n",
       "      <td>TV-MA</td>\n",
       "      <td>2 Seasons</td>\n",
       "      <td>International TV Shows, TV Dramas, TV Mysteries</td>\n",
       "      <td>After crossing paths at a party, a Cape Town t...</td>\n",
       "      <td>2.0</td>\n",
       "      <td>season</td>\n",
       "      <td>['International TV Shows', 'TV Dramas', 'TV My...</td>\n",
       "    </tr>\n",
       "    <tr>\n",
       "      <th>2</th>\n",
       "      <td>s3</td>\n",
       "      <td>TV Show</td>\n",
       "      <td>Ganglands</td>\n",
       "      <td>Julien Leclercq</td>\n",
       "      <td>Sami Bouajila, Tracy Gotoas, Samuel Jouy, Nabi...</td>\n",
       "      <td>Unknown</td>\n",
       "      <td>2021-09-24</td>\n",
       "      <td>2021</td>\n",
       "      <td>TV-MA</td>\n",
       "      <td>1 Season</td>\n",
       "      <td>Crime TV Shows, International TV Shows, TV Act...</td>\n",
       "      <td>To protect his family from a powerful drug lor...</td>\n",
       "      <td>1.0</td>\n",
       "      <td>season</td>\n",
       "      <td>['Crime TV Shows', 'International TV Shows', '...</td>\n",
       "    </tr>\n",
       "    <tr>\n",
       "      <th>3</th>\n",
       "      <td>s4</td>\n",
       "      <td>TV Show</td>\n",
       "      <td>Jailbirds New Orleans</td>\n",
       "      <td>Unknown</td>\n",
       "      <td>Unknown</td>\n",
       "      <td>Unknown</td>\n",
       "      <td>2021-09-24</td>\n",
       "      <td>2021</td>\n",
       "      <td>TV-MA</td>\n",
       "      <td>1 Season</td>\n",
       "      <td>Docuseries, Reality TV</td>\n",
       "      <td>Feuds, flirtations and toilet talk go down amo...</td>\n",
       "      <td>1.0</td>\n",
       "      <td>season</td>\n",
       "      <td>['Docuseries', 'Reality TV']</td>\n",
       "    </tr>\n",
       "    <tr>\n",
       "      <th>4</th>\n",
       "      <td>s5</td>\n",
       "      <td>TV Show</td>\n",
       "      <td>Kota Factory</td>\n",
       "      <td>Unknown</td>\n",
       "      <td>Mayur More, Jitendra Kumar, Ranjan Raj, Alam K...</td>\n",
       "      <td>India</td>\n",
       "      <td>2021-09-24</td>\n",
       "      <td>2021</td>\n",
       "      <td>TV-MA</td>\n",
       "      <td>2 Seasons</td>\n",
       "      <td>International TV Shows, Romantic TV Shows, TV ...</td>\n",
       "      <td>In a city of coaching centers known to train I...</td>\n",
       "      <td>2.0</td>\n",
       "      <td>season</td>\n",
       "      <td>['International TV Shows', 'Romantic TV Shows'...</td>\n",
       "    </tr>\n",
       "  </tbody>\n",
       "</table>\n",
       "</div>"
      ],
      "text/plain": [
       "  show_id     type                  title         director  \\\n",
       "0      s1    Movie   Dick Johnson Is Dead  Kirsten Johnson   \n",
       "1      s2  TV Show          Blood & Water          Unknown   \n",
       "2      s3  TV Show              Ganglands  Julien Leclercq   \n",
       "3      s4  TV Show  Jailbirds New Orleans          Unknown   \n",
       "4      s5  TV Show           Kota Factory          Unknown   \n",
       "\n",
       "                                                cast        country  \\\n",
       "0                                            Unknown  United States   \n",
       "1  Ama Qamata, Khosi Ngema, Gail Mabalane, Thaban...   South Africa   \n",
       "2  Sami Bouajila, Tracy Gotoas, Samuel Jouy, Nabi...        Unknown   \n",
       "3                                            Unknown        Unknown   \n",
       "4  Mayur More, Jitendra Kumar, Ranjan Raj, Alam K...          India   \n",
       "\n",
       "   date_added  release_year rating   duration  \\\n",
       "0  2021-09-25          2020  PG-13     90 min   \n",
       "1  2021-09-24          2021  TV-MA  2 Seasons   \n",
       "2  2021-09-24          2021  TV-MA   1 Season   \n",
       "3  2021-09-24          2021  TV-MA   1 Season   \n",
       "4  2021-09-24          2021  TV-MA  2 Seasons   \n",
       "\n",
       "                                           listed_in  \\\n",
       "0                                      Documentaries   \n",
       "1    International TV Shows, TV Dramas, TV Mysteries   \n",
       "2  Crime TV Shows, International TV Shows, TV Act...   \n",
       "3                             Docuseries, Reality TV   \n",
       "4  International TV Shows, Romantic TV Shows, TV ...   \n",
       "\n",
       "                                         description  duration_int  \\\n",
       "0  As her father nears the end of his life, filmm...          90.0   \n",
       "1  After crossing paths at a party, a Cape Town t...           2.0   \n",
       "2  To protect his family from a powerful drug lor...           1.0   \n",
       "3  Feuds, flirtations and toilet talk go down amo...           1.0   \n",
       "4  In a city of coaching centers known to train I...           2.0   \n",
       "\n",
       "  duration_type                                             genres  \n",
       "0           min                                  ['Documentaries']  \n",
       "1        season  ['International TV Shows', 'TV Dramas', 'TV My...  \n",
       "2        season  ['Crime TV Shows', 'International TV Shows', '...  \n",
       "3        season                       ['Docuseries', 'Reality TV']  \n",
       "4        season  ['International TV Shows', 'Romantic TV Shows'...  "
      ]
     },
     "execution_count": 3,
     "metadata": {},
     "output_type": "execute_result"
    }
   ],
   "source": [
    "# Load YAML configuration file\n",
    "import yaml\n",
    "\n",
    "with open(\"../config.yaml\", \"r\") as file:\n",
    "    config = yaml.safe_load(file)\n",
    "\n",
    "# Load dataset with pandas\n",
    "import pandas as pd\n",
    "df = pd.read_csv(config['input_data']['file'])  # Load dataset based on YAML path\n",
    "df.head()  # Show the first 5 rows of the dataset"
   ]
  },
  {
   "cell_type": "code",
   "execution_count": 26,
   "id": "ffe24f5d-c36d-4012-bc4b-7a53233ceb70",
   "metadata": {},
   "outputs": [
    {
     "name": "stdout",
     "output_type": "stream",
     "text": [
      "<class 'pandas.core.frame.DataFrame'>\n",
      "RangeIndex: 8706 entries, 0 to 8705\n",
      "Data columns (total 15 columns):\n",
      " #   Column         Non-Null Count  Dtype  \n",
      "---  ------         --------------  -----  \n",
      " 0   show_id        8706 non-null   object \n",
      " 1   type           8706 non-null   object \n",
      " 2   title          8706 non-null   object \n",
      " 3   director       8706 non-null   object \n",
      " 4   cast           8706 non-null   object \n",
      " 5   country        8704 non-null   object \n",
      " 6   date_added     8706 non-null   object \n",
      " 7   release_year   8706 non-null   int64  \n",
      " 8   rating         8706 non-null   object \n",
      " 9   duration       8706 non-null   object \n",
      " 10  listed_in      8706 non-null   object \n",
      " 11  description    8706 non-null   object \n",
      " 12  duration_int   8706 non-null   float64\n",
      " 13  duration_type  8706 non-null   object \n",
      " 14  genres         8706 non-null   object \n",
      "dtypes: float64(1), int64(1), object(13)\n",
      "memory usage: 1020.4+ KB\n"
     ]
    }
   ],
   "source": [
    "# Explore structure and metadata\n",
    "df.shape         # Check number of rows and columns\n",
    "df.columns       # List all column names\n",
    "df.info()        # Get data types and non-null counts per column"
   ]
  },
  {
   "cell_type": "code",
   "execution_count": 28,
   "id": "7301adb3-d58e-457a-9edf-abc12746a7fb",
   "metadata": {},
   "outputs": [
    {
     "data": {
      "text/plain": [
       "country          2\n",
       "show_id          0\n",
       "type             0\n",
       "title            0\n",
       "director         0\n",
       "cast             0\n",
       "date_added       0\n",
       "release_year     0\n",
       "rating           0\n",
       "duration         0\n",
       "listed_in        0\n",
       "description      0\n",
       "duration_int     0\n",
       "duration_type    0\n",
       "genres           0\n",
       "dtype: int64"
      ]
     },
     "execution_count": 28,
     "metadata": {},
     "output_type": "execute_result"
    }
   ],
   "source": [
    "# Check missing values in descending order\n",
    "df.isnull().sum().sort_values(ascending=False)"
   ]
  },
  {
   "cell_type": "code",
   "execution_count": 30,
   "id": "bf42c07a-5d0b-4718-b91d-365ecae7cc25",
   "metadata": {},
   "outputs": [
    {
     "data": {
      "text/plain": [
       "rating\n",
       "TV-MA      3183\n",
       "TV-14      2133\n",
       "TV-PG       838\n",
       "R           799\n",
       "PG-13       490\n",
       "TV-Y7       335\n",
       "TV-Y        300\n",
       "PG          287\n",
       "TV-G        212\n",
       "Unrated      85\n",
       "Name: count, dtype: int64"
      ]
     },
     "execution_count": 30,
     "metadata": {},
     "output_type": "execute_result"
    }
   ],
   "source": [
    "# Number of unique values per column\n",
    "df.nunique().sort_values()\n",
    "\n",
    "# Distribution of key categorical columns\n",
    "df['type'].value_counts(normalize=True)  # Distribution of 'Movie' vs 'TV Show'\n",
    "df['country'].value_counts().head(10)    # Top 10 countries\n",
    "df['rating'].value_counts().head(10)     # Most common ratings"
   ]
  },
  {
   "cell_type": "code",
   "execution_count": 32,
   "id": "cbf79246-6a10-44d5-a114-8435b949d91e",
   "metadata": {},
   "outputs": [
    {
     "data": {
      "text/plain": [
       "8494                  International TV Shows, TV Dramas\n",
       "6799                       Dramas, International Movies\n",
       "1009                           Children & Family Movies\n",
       "2490    Comedies, International Movies, Romantic Movies\n",
       "1617                                           Comedies\n",
       "1184           Action & Adventure, International Movies\n",
       "5799                       British TV Shows, Docuseries\n",
       "935                  Children & Family Movies, Comedies\n",
       "310                          Crime TV Shows, Docuseries\n",
       "6810                       Action & Adventure, Comedies\n",
       "Name: listed_in, dtype: object"
      ]
     },
     "execution_count": 32,
     "metadata": {},
     "output_type": "execute_result"
    }
   ],
   "source": [
    "# View a sample of the genres column\n",
    "df['listed_in'].sample(10)"
   ]
  },
  {
   "cell_type": "code",
   "execution_count": 34,
   "id": "1b4ab34d-af55-497c-9265-f67d7745c6a2",
   "metadata": {},
   "outputs": [
    {
     "data": {
      "text/plain": [
       "array(['United States', 'South Africa', 'Unknown', 'India',\n",
       "       'United Kingdom', 'Germany', 'Mexico', 'Turkey', 'Australia',\n",
       "       'Finland', 'China', 'Nigeria', 'Japan', 'Spain', 'France',\n",
       "       'Belgium', 'South Korea', 'Argentina', 'Russia', 'Canada'],\n",
       "      dtype=object)"
      ]
     },
     "execution_count": 34,
     "metadata": {},
     "output_type": "execute_result"
    }
   ],
   "source": [
    "# Check unique countries\n",
    "df['country'].unique()[:20]"
   ]
  },
  {
   "cell_type": "code",
   "execution_count": 36,
   "id": "f1d3dbf9-c536-4ea5-8ec5-dad86748ceaa",
   "metadata": {},
   "outputs": [
    {
     "data": {
      "text/html": [
       "<div>\n",
       "<style scoped>\n",
       "    .dataframe tbody tr th:only-of-type {\n",
       "        vertical-align: middle;\n",
       "    }\n",
       "\n",
       "    .dataframe tbody tr th {\n",
       "        vertical-align: top;\n",
       "    }\n",
       "\n",
       "    .dataframe thead th {\n",
       "        text-align: right;\n",
       "    }\n",
       "</style>\n",
       "<table border=\"1\" class=\"dataframe\">\n",
       "  <thead>\n",
       "    <tr style=\"text-align: right;\">\n",
       "      <th></th>\n",
       "      <th>duration</th>\n",
       "      <th>duration_int</th>\n",
       "      <th>duration_type</th>\n",
       "    </tr>\n",
       "  </thead>\n",
       "  <tbody>\n",
       "    <tr>\n",
       "      <th>0</th>\n",
       "      <td>90 min</td>\n",
       "      <td>90</td>\n",
       "      <td>min</td>\n",
       "    </tr>\n",
       "    <tr>\n",
       "      <th>1</th>\n",
       "      <td>2 Seasons</td>\n",
       "      <td>2</td>\n",
       "      <td>Seasons</td>\n",
       "    </tr>\n",
       "    <tr>\n",
       "      <th>2</th>\n",
       "      <td>1 Season</td>\n",
       "      <td>1</td>\n",
       "      <td>Season</td>\n",
       "    </tr>\n",
       "    <tr>\n",
       "      <th>3</th>\n",
       "      <td>1 Season</td>\n",
       "      <td>1</td>\n",
       "      <td>Season</td>\n",
       "    </tr>\n",
       "    <tr>\n",
       "      <th>4</th>\n",
       "      <td>2 Seasons</td>\n",
       "      <td>2</td>\n",
       "      <td>Seasons</td>\n",
       "    </tr>\n",
       "  </tbody>\n",
       "</table>\n",
       "</div>"
      ],
      "text/plain": [
       "    duration  duration_int duration_type\n",
       "0     90 min            90           min\n",
       "1  2 Seasons             2       Seasons\n",
       "2   1 Season             1        Season\n",
       "3   1 Season             1        Season\n",
       "4  2 Seasons             2       Seasons"
      ]
     },
     "execution_count": 36,
     "metadata": {},
     "output_type": "execute_result"
    }
   ],
   "source": [
    "# Split 'duration' column into duration value and type (e.g., \"90 min\" → 90 + 'min')\n",
    "df[['duration_int', 'duration_type']] = df['duration'].str.extract(r'(\\d+)\\s*(\\w+)')\n",
    "df['duration_int'] = pd.to_numeric(df['duration_int'], errors='coerce')  # Convert to numeric\n",
    "df[['duration', 'duration_int', 'duration_type']].head()  # Preview new columns"
   ]
  },
  {
   "cell_type": "code",
   "execution_count": 38,
   "id": "eb5492da-ccb3-4423-9b75-2100203d452d",
   "metadata": {},
   "outputs": [
    {
     "data": {
      "text/plain": [
       "dtype('<M8[ns]')"
      ]
     },
     "execution_count": 38,
     "metadata": {},
     "output_type": "execute_result"
    }
   ],
   "source": [
    "# Convert 'date_added' column to datetime format\n",
    "df['date_added'] = pd.to_datetime(df['date_added'], errors='coerce') # Convert to datetime\n",
    "df['date_added'].dtype  # Confirm conversion"
   ]
  },
  {
   "cell_type": "code",
   "execution_count": 40,
   "id": "5b1e8658-0381-4aaf-bc84-9ae66449899f",
   "metadata": {},
   "outputs": [
    {
     "data": {
      "text/html": [
       "<div>\n",
       "<style scoped>\n",
       "    .dataframe tbody tr th:only-of-type {\n",
       "        vertical-align: middle;\n",
       "    }\n",
       "\n",
       "    .dataframe tbody tr th {\n",
       "        vertical-align: top;\n",
       "    }\n",
       "\n",
       "    .dataframe thead th {\n",
       "        text-align: right;\n",
       "    }\n",
       "</style>\n",
       "<table border=\"1\" class=\"dataframe\">\n",
       "  <thead>\n",
       "    <tr style=\"text-align: right;\">\n",
       "      <th></th>\n",
       "      <th>listed_in</th>\n",
       "      <th>genres</th>\n",
       "    </tr>\n",
       "  </thead>\n",
       "  <tbody>\n",
       "    <tr>\n",
       "      <th>6184</th>\n",
       "      <td>Documentaries, Sports Movies</td>\n",
       "      <td>[Documentaries, Sports Movies]</td>\n",
       "    </tr>\n",
       "    <tr>\n",
       "      <th>7806</th>\n",
       "      <td>Anime Series</td>\n",
       "      <td>[Anime Series]</td>\n",
       "    </tr>\n",
       "    <tr>\n",
       "      <th>4381</th>\n",
       "      <td>Romantic TV Shows, Spanish-Language TV Shows, ...</td>\n",
       "      <td>[Romantic TV Shows, Spanish-Language TV Shows,...</td>\n",
       "    </tr>\n",
       "    <tr>\n",
       "      <th>1939</th>\n",
       "      <td>Comedies, Dramas, International Movies</td>\n",
       "      <td>[Comedies, Dramas, International Movies]</td>\n",
       "    </tr>\n",
       "    <tr>\n",
       "      <th>6426</th>\n",
       "      <td>Comedies, Dramas, International Movies</td>\n",
       "      <td>[Comedies, Dramas, International Movies]</td>\n",
       "    </tr>\n",
       "  </tbody>\n",
       "</table>\n",
       "</div>"
      ],
      "text/plain": [
       "                                              listed_in  \\\n",
       "6184                       Documentaries, Sports Movies   \n",
       "7806                                       Anime Series   \n",
       "4381  Romantic TV Shows, Spanish-Language TV Shows, ...   \n",
       "1939             Comedies, Dramas, International Movies   \n",
       "6426             Comedies, Dramas, International Movies   \n",
       "\n",
       "                                                 genres  \n",
       "6184                     [Documentaries, Sports Movies]  \n",
       "7806                                     [Anime Series]  \n",
       "4381  [Romantic TV Shows, Spanish-Language TV Shows,...  \n",
       "1939           [Comedies, Dramas, International Movies]  \n",
       "6426           [Comedies, Dramas, International Movies]  "
      ]
     },
     "execution_count": 40,
     "metadata": {},
     "output_type": "execute_result"
    }
   ],
   "source": [
    "# Split genres into lists (for multi-label classification)\n",
    "df['genres'] = df['listed_in'].str.split(', ') # Split genre strings into lists\n",
    "df[['listed_in', 'genres']].sample(5)  # Check results"
   ]
  },
  {
   "cell_type": "code",
   "execution_count": 42,
   "id": "38fa55cf-54d4-4c25-b844-d8d092bd4f8b",
   "metadata": {},
   "outputs": [
    {
     "data": {
      "text/plain": [
       "duration_type\n",
       "min       6128\n",
       "Season    2578\n",
       "Name: count, dtype: int64"
      ]
     },
     "execution_count": 42,
     "metadata": {},
     "output_type": "execute_result"
    }
   ],
   "source": [
    "# Frequency of duration types (e.g., 'min', 'Season')\n",
    "df['duration_type'].value_counts() # Check types of duration (minutes or seasons)\n",
    "\n",
    "# Standardize plural form to singular ('Seasons' → 'Season')\n",
    "df['duration_type'] = df['duration_type'].replace('Seasons', 'Season') # Normalize to singular\n",
    "df['duration_type'].value_counts()  # Confirm correction"
   ]
  },
  {
   "cell_type": "code",
   "execution_count": 44,
   "id": "177ff205-c6fa-415b-adba-9c56fb54a5f3",
   "metadata": {},
   "outputs": [
    {
     "data": {
      "text/html": [
       "<div>\n",
       "<style scoped>\n",
       "    .dataframe tbody tr th:only-of-type {\n",
       "        vertical-align: middle;\n",
       "    }\n",
       "\n",
       "    .dataframe tbody tr th {\n",
       "        vertical-align: top;\n",
       "    }\n",
       "\n",
       "    .dataframe thead th {\n",
       "        text-align: right;\n",
       "    }\n",
       "</style>\n",
       "<table border=\"1\" class=\"dataframe\">\n",
       "  <thead>\n",
       "    <tr style=\"text-align: right;\">\n",
       "      <th></th>\n",
       "      <th>duration</th>\n",
       "    </tr>\n",
       "  </thead>\n",
       "  <tbody>\n",
       "  </tbody>\n",
       "</table>\n",
       "</div>"
      ],
      "text/plain": [
       "Empty DataFrame\n",
       "Columns: [duration]\n",
       "Index: []"
      ]
     },
     "execution_count": 44,
     "metadata": {},
     "output_type": "execute_result"
    }
   ],
   "source": [
    "# Check for missing values in 'duration_int'\n",
    "df['duration_int'].isnull().sum()  # Check how many null durations remain\n",
    "# Keep only rows where 'duration_int' is not null\n",
    "df = df[df['duration_int'].notna()]  # Filter out rows without valid duration\n",
    "# Inspect rows where duration was missing\n",
    "df[df['duration_int'].isna()][['duration']]\n"
   ]
  },
  {
   "cell_type": "code",
   "execution_count": 46,
   "id": "5b3c4802-c72c-4e13-9941-5649f9428596",
   "metadata": {},
   "outputs": [
    {
     "name": "stdout",
     "output_type": "stream",
     "text": [
      "Number of rows after removing duplicates: 8706\n"
     ]
    }
   ],
   "source": [
    "# Remove duplicated rows based on 'show_id', 'title', and 'release_year'\n",
    "df = df.drop_duplicates(subset=['show_id', 'title', 'release_year'])  # Remove duplicates\n",
    "print(\"Number of rows after removing duplicates:\", df.shape[0])  # Check number of rows after deduplication"
   ]
  },
  {
   "cell_type": "code",
   "execution_count": 48,
   "id": "161d1387-7808-4989-8775-3556d12a8448",
   "metadata": {},
   "outputs": [
    {
     "name": "stdout",
     "output_type": "stream",
     "text": [
      "Remaining duplicates: 0\n"
     ]
    }
   ],
   "source": [
    "# Confirm that duplicates are removed\n",
    "duplicates = df.duplicated(subset=['show_id', 'title', 'release_year']).sum()  # Count remaining duplicates\n",
    "print(\"Remaining duplicates:\", duplicates) "
   ]
  },
  {
   "cell_type": "code",
   "execution_count": 50,
   "id": "247b4264-ff75-4c16-8ec0-0385cd08e9bd",
   "metadata": {},
   "outputs": [
    {
     "data": {
      "text/plain": [
       "country          2\n",
       "show_id          0\n",
       "type             0\n",
       "title            0\n",
       "director         0\n",
       "cast             0\n",
       "date_added       0\n",
       "release_year     0\n",
       "rating           0\n",
       "duration         0\n",
       "listed_in        0\n",
       "description      0\n",
       "duration_int     0\n",
       "duration_type    0\n",
       "genres           0\n",
       "dtype: int64"
      ]
     },
     "execution_count": 50,
     "metadata": {},
     "output_type": "execute_result"
    }
   ],
   "source": [
    "# Check missing values again per column (after cleaning)\n",
    "df.isnull().sum().sort_values(ascending=False)"
   ]
  },
  {
   "cell_type": "code",
   "execution_count": 52,
   "id": "3a421502-6259-4e12-b363-920115fab246",
   "metadata": {},
   "outputs": [],
   "source": [
    "# Fill missing values with appropriate defaults\n",
    "# 1. Replace missing 'director' with \"Unknown\"\n",
    "df['director'] = df['director'].fillna(\"Unknown\")\n",
    "# 2. Replace missing 'cast' with \"Unknown\"\n",
    "df['cast'] = df['cast'].fillna(\"Unknown\")\n",
    "# 3. Replace missing 'country' with \"Unknown\"\n",
    "df['country'] = df['country'].fillna(\"Unknown\")\n",
    "# 4. Drop rows where 'date_added' is missing\n",
    "df = df[df['date_added'].notna()]\n",
    "# 5. Replace missing 'rating' with \"Not Rated\"\n",
    "df['rating'] = df['rating'].fillna(\"Not Rated\")"
   ]
  },
  {
   "cell_type": "code",
   "execution_count": 54,
   "id": "37cc1394-0caf-4245-b93b-624702c2bba9",
   "metadata": {},
   "outputs": [
    {
     "data": {
      "text/plain": [
       "show_id          0\n",
       "type             0\n",
       "title            0\n",
       "director         0\n",
       "cast             0\n",
       "country          0\n",
       "date_added       0\n",
       "release_year     0\n",
       "rating           0\n",
       "duration         0\n",
       "listed_in        0\n",
       "description      0\n",
       "duration_int     0\n",
       "duration_type    0\n",
       "genres           0\n",
       "dtype: int64"
      ]
     },
     "execution_count": 54,
     "metadata": {},
     "output_type": "execute_result"
    }
   ],
   "source": [
    "# Confirm again that no missing values remain after filling\n",
    "df.isnull().sum().sort_values(ascending=False)"
   ]
  },
  {
   "cell_type": "code",
   "execution_count": 56,
   "id": "1a324737-4e1a-4988-9ef8-ab49eae6fe71",
   "metadata": {},
   "outputs": [],
   "source": [
    "# Define a function to extract the first country if there are multiple listed\n",
    "def extract_first_country(country):\n",
    "    if isinstance(country, str):\n",
    "        return country.split(',')[0]  # Keep only the first country\n",
    "    return country\n",
    "\n",
    "# Apply the function to create a cleaned 'country' column\n",
    "df['country'] = df['country'].apply(extract_first_country)"
   ]
  },
  {
   "cell_type": "code",
   "execution_count": 58,
   "id": "ce6f5d8f-56ab-4320-aa8f-f1ce86737329",
   "metadata": {},
   "outputs": [
    {
     "name": "stdout",
     "output_type": "stream",
     "text": [
      "duration_type\n",
      "min       6128\n",
      "Season    2578\n",
      "Name: count, dtype: int64\n",
      "type\n",
      "Movie      6128\n",
      "TV Show    2578\n",
      "Name: count, dtype: int64\n",
      "rating\n",
      "TV-MA      3183\n",
      "TV-14      2133\n",
      "TV-PG       838\n",
      "R           799\n",
      "PG-13       490\n",
      "TV-Y7       335\n",
      "TV-Y        300\n",
      "PG          287\n",
      "TV-G        212\n",
      "Unrated      85\n",
      "G            41\n",
      "NC-17         3\n",
      "Name: count, dtype: int64\n",
      "country\n",
      "United States     3166\n",
      "India             1007\n",
      "Unknown            829\n",
      "United Kingdom     611\n",
      "Canada             259\n",
      "Japan              255\n",
      "France             209\n",
      "South Korea        206\n",
      "Spain              177\n",
      "Mexico             134\n",
      "Australia          115\n",
      "Egypt              112\n",
      "Turkey             111\n",
      "Germany            103\n",
      "China              100\n",
      "Nigeria             96\n",
      "Indonesia           85\n",
      "Taiwan              85\n",
      "Brazil              84\n",
      "Philippines         80\n",
      "Name: count, dtype: int64\n"
     ]
    }
   ],
   "source": [
    "# Quick check of distributions on key columns\n",
    "print(df['duration_type'].value_counts())  # Check distribution of 'duration_type'\n",
    "print(df['type'].value_counts())           # Check distribution of 'type'\n",
    "print(df['rating'].value_counts())         # Check distribution of 'rating'\n",
    "print(df['country'].value_counts().head(20))  # Check top 20 most common countries"
   ]
  },
  {
   "cell_type": "code",
   "execution_count": 60,
   "id": "bfb8374a-8b5f-465a-a670-56193a6ccb6a",
   "metadata": {},
   "outputs": [],
   "source": [
    "# Normalize inconsistent 'rating' labels into unified categories\n",
    "df['rating'] = df['rating'].replace({\n",
    "    'NR': 'Unrated',\n",
    "    'UR': 'Unrated',\n",
    "    'Not Rated': 'Unrated',\n",
    "    'UNRATED': 'Unrated',\n",
    "    'TV-Y7-FV': 'TV-Y7'  # Merge variant of TV-Y7\n",
    "})"
   ]
  },
  {
   "cell_type": "code",
   "execution_count": 62,
   "id": "d433bc54-7cf9-4065-9725-60161b3c491d",
   "metadata": {},
   "outputs": [],
   "source": [
    "# Standardize 'duration_type' to lowercase for consistency\n",
    "df['duration_type'] = df['duration_type'].str.lower()"
   ]
  },
  {
   "cell_type": "code",
   "execution_count": 64,
   "id": "08342429-f3ab-48be-921c-cfe3a2b39ad6",
   "metadata": {},
   "outputs": [
    {
     "name": "stdout",
     "output_type": "stream",
     "text": [
      "Date format: datetime64[ns]\n",
      "Earliest date: 2008-01-01 00:00:00\n",
      "Latest date: 2021-09-25 00:00:00\n"
     ]
    },
    {
     "data": {
      "text/plain": [
       "1600   2020-12-03\n",
       "1829   2020-10-19\n",
       "2567   2020-05-02\n",
       "311    2021-08-04\n",
       "1933   2020-09-30\n",
       "8432   2019-06-06\n",
       "2385   2020-06-15\n",
       "5755   2016-10-12\n",
       "397    2021-07-23\n",
       "4697   2018-08-17\n",
       "Name: date_added, dtype: datetime64[ns]"
      ]
     },
     "execution_count": 64,
     "metadata": {},
     "output_type": "execute_result"
    }
   ],
   "source": [
    "# Check the format and range of 'date_added' column\n",
    "print(\"Date format:\", df['date_added'].dtype)  # Confirm 'date_added' is datetime\n",
    "print(\"Earliest date:\", df['date_added'].min())  # Check earliest date\n",
    "print(\"Latest date:\", df['date_added'].max())    # Check latest date\n",
    "df['date_added'].sample(10, random_state=1)     # Preview 10 random samples"
   ]
  },
  {
   "cell_type": "code",
   "execution_count": 66,
   "id": "0dcfe27c-87f5-4e5c-ac15-fe595ea9cb5a",
   "metadata": {},
   "outputs": [
    {
     "name": "stdout",
     "output_type": "stream",
     "text": [
      "Average duration per type:\n",
      "  duration_type  duration_int\n",
      "0           min     99.577187\n",
      "1        season      1.688518\n"
     ]
    }
   ],
   "source": [
    "# Calculate the average duration by 'duration_type' (e.g., average movie length)\n",
    "avg_duration = df.groupby('duration_type')['duration_int'].mean().reset_index()\n",
    "print(\"Average duration per type:\")\n",
    "print(avg_duration)"
   ]
  },
  {
   "cell_type": "code",
   "execution_count": 68,
   "id": "0151c58d-f3f6-4917-b0a8-be5b37487f71",
   "metadata": {},
   "outputs": [
    {
     "name": "stdout",
     "output_type": "stream",
     "text": [
      "\n",
      "Number of titles by country:\n",
      "          country  count\n",
      "0   United States   3166\n",
      "1           India   1007\n",
      "2         Unknown    829\n",
      "3  United Kingdom    611\n",
      "4          Canada    259\n",
      "5           Japan    255\n",
      "6          France    209\n",
      "7     South Korea    206\n",
      "8           Spain    177\n",
      "9          Mexico    134\n"
     ]
    }
   ],
   "source": [
    "# Count number of titles per country (using the cleaned 'country' column)\n",
    "country_counts = df['country'].value_counts().reset_index()\n",
    "country_counts.columns = ['country', 'count']\n",
    "print(\"\\nNumber of titles by country:\")\n",
    "print(country_counts.head(10))"
   ]
  },
  {
   "cell_type": "code",
   "execution_count": 70,
   "id": "2da03a25-746e-446c-aa0c-c07fd7796d58",
   "metadata": {},
   "outputs": [
    {
     "name": "stdout",
     "output_type": "stream",
     "text": [
      "\n",
      "Most common genres:\n",
      "                      genre  count\n",
      "0      International Movies   2752\n",
      "1                    Dramas   2427\n",
      "2                  Comedies   1674\n",
      "3    International TV Shows   1328\n",
      "4             Documentaries    869\n",
      "5        Action & Adventure    859\n",
      "6        Independent Movies    756\n",
      "7                 TV Dramas    739\n",
      "8  Children & Family Movies    641\n",
      "9           Romantic Movies    616\n"
     ]
    }
   ],
   "source": [
    "# Explode the 'genres' column and count most common genres\n",
    "df_exploded = df.explode('genres')  # Separate multiple genres into individual rows\n",
    "genre_counts = df_exploded['genres'].value_counts().reset_index()  # Count occurrences of each genre\n",
    "genre_counts.columns = ['genre', 'count']  # Rename columns for clarity\n",
    "print(\"\\nMost common genres:\")\n",
    "print(genre_counts.head(10))  # Show top 10 genres"
   ]
  },
  {
   "cell_type": "code",
   "execution_count": 72,
   "id": "186c0d03-814a-4049-80a8-cf40bd676f9d",
   "metadata": {},
   "outputs": [
    {
     "name": "stdout",
     "output_type": "stream",
     "text": [
      "\n",
      "🔹 Titles by release year:\n",
      "    release_year  count\n",
      "64          2012    229\n",
      "65          2013    282\n",
      "66          2014    343\n",
      "67          2015    548\n",
      "68          2016    878\n",
      "69          2017   1015\n",
      "70          2018   1140\n",
      "71          2019   1030\n",
      "72          2020    953\n",
      "73          2021    592\n"
     ]
    }
   ],
   "source": [
    "# Count number of titles by release year\n",
    "titles_per_year = df['release_year'].value_counts().sort_index().reset_index()\n",
    "titles_per_year.columns = ['release_year', 'count']\n",
    "print(\"\\n🔹 Titles by release year:\")\n",
    "print(titles_per_year.tail(10))  # Show most recent years"
   ]
  },
  {
   "cell_type": "code",
   "execution_count": 81,
   "id": "05d715e5-0ab6-42ad-acb9-b39c72a81ccd",
   "metadata": {},
   "outputs": [],
   "source": [
    "#Export cleaned DataFrame to CSV for SQL import or future use\n",
    "df['platform'] = 'Netflix'\n",
    "df.to_csv('../data/clean/cleaned_netflix_data_with_platform.csv', index=False) #Save\n"
   ]
  },
  {
   "cell_type": "code",
   "execution_count": 83,
   "id": "9051f879-4cb4-43ef-88b8-58f124dc0b1a",
   "metadata": {},
   "outputs": [
    {
     "name": "stdout",
     "output_type": "stream",
     "text": [
      "Index(['show_id', 'type', 'title', 'director', 'cast', 'country', 'date_added',\n",
      "       'release_year', 'rating', 'duration', 'listed_in', 'description',\n",
      "       'duration_int', 'duration_type', 'genres', 'platform'],\n",
      "      dtype='object')\n",
      "  show_id                  title platform\n",
      "0      s1   Dick Johnson Is Dead  Netflix\n",
      "1      s2          Blood & Water  Netflix\n",
      "2      s3              Ganglands  Netflix\n",
      "3      s4  Jailbirds New Orleans  Netflix\n",
      "4      s5           Kota Factory  Netflix\n"
     ]
    }
   ],
   "source": [
    "print(df.columns)\n",
    "print(df[['show_id', 'title', 'platform']].head())"
   ]
  },
  {
   "cell_type": "code",
   "execution_count": 76,
   "id": "bb13d722-3085-4bd6-a485-239a14a77123",
   "metadata": {},
   "outputs": [
    {
     "name": "stdout",
     "output_type": "stream",
     "text": [
      "File updated successfully: 1745323920.0718448\n"
     ]
    }
   ],
   "source": [
    "import os\n",
    "print(\"File updated successfully:\", os.path.getmtime('../data/clean/cleaned_netflix_data_with_platform.csv'))\n"
   ]
  },
  {
   "cell_type": "code",
   "execution_count": null,
   "id": "38c6c72b-f07a-4f67-9c70-c22ed9fc0785",
   "metadata": {},
   "outputs": [],
   "source": []
  }
 ],
 "metadata": {
  "kernelspec": {
   "display_name": "Python 3 (ipykernel)",
   "language": "python",
   "name": "python3"
  },
  "language_info": {
   "codemirror_mode": {
    "name": "ipython",
    "version": 3
   },
   "file_extension": ".py",
   "mimetype": "text/x-python",
   "name": "python",
   "nbconvert_exporter": "python",
   "pygments_lexer": "ipython3",
   "version": "3.12.7"
  }
 },
 "nbformat": 4,
 "nbformat_minor": 5
}
